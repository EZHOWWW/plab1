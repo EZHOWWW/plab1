{
 "cells": [
  {
   "cell_type": "markdown",
   "id": "2d7c1456",
   "metadata": {},
   "source": [
    "# Лабараторная работа по python № 1\n",
    "\n",
    "# Автор: Ежов Дмитрий Александрович\n",
    "\n",
    "Группа: J3111, ИСУ: 471242\n"
   ]
  },
  {
   "cell_type": "code",
   "execution_count": 1,
   "id": "67ba2388",
   "metadata": {},
   "outputs": [
    {
     "name": "stdout",
     "output_type": "stream",
     "text": [
      "Requirement already satisfied: ucimlrepo in /home/dima/.conda/envs/loveenv/lib/python3.12/site-packages (0.0.7)\n",
      "Requirement already satisfied: pandas>=1.0.0 in /home/dima/.conda/envs/loveenv/lib/python3.12/site-packages (from ucimlrepo) (2.2.3)\n",
      "Requirement already satisfied: certifi>=2020.12.5 in /home/dima/.conda/envs/loveenv/lib/python3.12/site-packages (from ucimlrepo) (2025.1.31)\n",
      "Requirement already satisfied: numpy>=1.26.0 in /home/dima/.conda/envs/loveenv/lib/python3.12/site-packages (from pandas>=1.0.0->ucimlrepo) (1.26.4)\n",
      "Requirement already satisfied: python-dateutil>=2.8.2 in /home/dima/.conda/envs/loveenv/lib/python3.12/site-packages (from pandas>=1.0.0->ucimlrepo) (2.9.0.post0)\n",
      "Requirement already satisfied: pytz>=2020.1 in /home/dima/.conda/envs/loveenv/lib/python3.12/site-packages (from pandas>=1.0.0->ucimlrepo) (2025.1)\n",
      "Requirement already satisfied: tzdata>=2022.7 in /home/dima/.conda/envs/loveenv/lib/python3.12/site-packages (from pandas>=1.0.0->ucimlrepo) (2025.1)\n",
      "Requirement already satisfied: six>=1.5 in /home/dima/.conda/envs/loveenv/lib/python3.12/site-packages (from python-dateutil>=2.8.2->pandas>=1.0.0->ucimlrepo) (1.17.0)\n",
      "Note: you may need to restart the kernel to use updated packages.\n"
     ]
    }
   ],
   "source": [
    "# Download dataset: Seoul Bike Sharing Demand\n",
    "# https://archive.ics.uci.edu/dataset/560/seoul+bike+sharing+demand\n",
    "%pip install ucimlrepo\n",
    "\n",
    "# import\n",
    "import numpy as np\n",
    "import pandas as pd\n",
    "\n",
    "from ucimlrepo import fetch_ucirepo"
   ]
  },
  {
   "cell_type": "markdown",
   "id": "3febec0e",
   "metadata": {},
   "source": [
    "# I. Подготовка данных и базовые операции с NumPy\n",
    "\n",
    "## 1. Загрузка и подготовка данных:\n"
   ]
  },
  {
   "cell_type": "code",
   "execution_count": 2,
   "id": "4ed97cc4",
   "metadata": {},
   "outputs": [
    {
     "name": "stdout",
     "output_type": "stream",
     "text": [
      "{'uci_id': 560, 'name': 'Seoul Bike Sharing Demand', 'repository_url': 'https://archive.ics.uci.edu/dataset/560/seoul+bike+sharing+demand', 'data_url': 'https://archive.ics.uci.edu/static/public/560/data.csv', 'abstract': 'The dataset contains count of public bicycles rented per hour in the Seoul Bike Sharing System, with corresponding weather data and holiday information', 'area': 'Business', 'tasks': ['Regression'], 'characteristics': ['Multivariate'], 'num_instances': 8760, 'num_features': 13, 'feature_types': ['Integer', 'Real'], 'demographics': [], 'target_col': ['Functioning Day'], 'index_col': None, 'has_missing_values': 'no', 'missing_values_symbol': None, 'year_of_dataset_creation': 2020, 'last_updated': 'Mon Feb 05 2024', 'dataset_doi': '10.24432/C5F62R', 'creators': [], 'intro_paper': None, 'additional_info': {'summary': 'Currently Rental bikes are introduced in many urban cities for the enhancement of mobility comfort. It is important to make the rental bike available and accessible to the public at the right time as it lessens the waiting time. Eventually, providing the city with a stable supply of rental bikes becomes a major concern. The crucial part is the prediction of bike count required at each hour for the stable supply of rental bikes. \\r\\nThe dataset contains weather information (Temperature, Humidity, Windspeed, Visibility, Dewpoint, Solar radiation, Snowfall, Rainfall), the number of bikes rented per hour and date information. ', 'purpose': None, 'funded_by': None, 'instances_represent': None, 'recommended_data_splits': None, 'sensitive_data': None, 'preprocessing_description': None, 'variable_info': 'Date : year-month-day\\r\\nRented Bike count - Count of bikes rented at each hour\\r\\nHour - Hour of he day\\r\\nTemperature-Temperature in Celsius\\r\\nHumidity - %\\r\\nWindspeed - m/s\\r\\nVisibility - 10m\\r\\nDew point temperature - Celsius \\r\\nSolar radiation - MJ/m2\\r\\nRainfall - mm\\r\\nSnowfall - cm\\r\\nSeasons - Winter, Spring, Summer, Autumn\\r\\nHoliday - Holiday/No holiday\\r\\nFunctional Day - NoFunc(Non Functional Hours), Fun(Functional hours)', 'citation': None}}\n",
      "                     name     role         type demographic description  \\\n",
      "0                    Date  Feature         Date        None        None   \n",
      "1       Rented Bike Count  Feature      Integer        None        None   \n",
      "2                    Hour  Feature      Integer        None        None   \n",
      "3             Temperature  Feature   Continuous        None        None   \n",
      "4                Humidity  Feature      Integer        None        None   \n",
      "5              Wind speed  Feature   Continuous        None        None   \n",
      "6              Visibility  Feature      Integer        None        None   \n",
      "7   Dew point temperature  Feature   Continuous        None        None   \n",
      "8         Solar Radiation  Feature   Continuous        None        None   \n",
      "9                Rainfall  Feature      Integer        None        None   \n",
      "10               Snowfall  Feature      Integer        None        None   \n",
      "11                Seasons  Feature  Categorical        None        None   \n",
      "12                Holiday  Feature       Binary        None        None   \n",
      "13        Functioning Day   Target       Binary        None        None   \n",
      "\n",
      "    units missing_values  \n",
      "0    None             no  \n",
      "1    None             no  \n",
      "2    None             no  \n",
      "3       C             no  \n",
      "4       %             no  \n",
      "5     m/s             no  \n",
      "6     10m             no  \n",
      "7       C             no  \n",
      "8   Mj/m2             no  \n",
      "9      mm             no  \n",
      "10     cm             no  \n",
      "11   None             no  \n",
      "12   None             no  \n",
      "13   None             no  \n"
     ]
    }
   ],
   "source": [
    "# Import data, show metadata\n",
    "\n",
    "# https://archive.ics.uci.edu/dataset/560/seoul+bike+sharing+demand\n",
    "\n",
    "seoul_bike_sharing_demand = fetch_ucirepo(id=560)\n",
    "# print(seoul_bike_sharing_demand)\n",
    "\n",
    "# metadata\n",
    "print(seoul_bike_sharing_demand.metadata)\n",
    "\n",
    "# variable information\n",
    "print(seoul_bike_sharing_demand.variables)\n"
   ]
  },
  {
   "cell_type": "code",
   "execution_count": 3,
   "id": "1321d123",
   "metadata": {},
   "outputs": [
    {
     "name": "stdout",
     "output_type": "stream",
     "text": [
      "            Date  Rented Bike Count  Hour  Temperature  Humidity  Wind speed  \\\n",
      "0      1/12/2017                254     0         -5.2        37         2.2   \n",
      "1      1/12/2017                204     1         -5.5        38         0.8   \n",
      "2      1/12/2017                173     2         -6.0        39         1.0   \n",
      "3      1/12/2017                107     3         -6.2        40         0.9   \n",
      "4      1/12/2017                 78     4         -6.0        36         2.3   \n",
      "...          ...                ...   ...          ...       ...         ...   \n",
      "8755  30/11/2018               1003    19          4.2        34         2.6   \n",
      "8756  30/11/2018                764    20          3.4        37         2.3   \n",
      "8757  30/11/2018                694    21          2.6        39         0.3   \n",
      "8758  30/11/2018                712    22          2.1        41         1.0   \n",
      "8759  30/11/2018                584    23          1.9        43         1.3   \n",
      "\n",
      "      Visibility  Dew point temperature  Solar Radiation  Rainfall  Snowfall  \\\n",
      "0           2000                  -17.6              0.0       0.0       0.0   \n",
      "1           2000                  -17.6              0.0       0.0       0.0   \n",
      "2           2000                  -17.7              0.0       0.0       0.0   \n",
      "3           2000                  -17.6              0.0       0.0       0.0   \n",
      "4           2000                  -18.6              0.0       0.0       0.0   \n",
      "...          ...                    ...              ...       ...       ...   \n",
      "8755        1894                  -10.3              0.0       0.0       0.0   \n",
      "8756        2000                   -9.9              0.0       0.0       0.0   \n",
      "8757        1968                   -9.9              0.0       0.0       0.0   \n",
      "8758        1859                   -9.8              0.0       0.0       0.0   \n",
      "8759        1909                   -9.3              0.0       0.0       0.0   \n",
      "\n",
      "     Seasons     Holiday  \n",
      "0     Winter  No Holiday  \n",
      "1     Winter  No Holiday  \n",
      "2     Winter  No Holiday  \n",
      "3     Winter  No Holiday  \n",
      "4     Winter  No Holiday  \n",
      "...      ...         ...  \n",
      "8755  Autumn  No Holiday  \n",
      "8756  Autumn  No Holiday  \n",
      "8757  Autumn  No Holiday  \n",
      "8758  Autumn  No Holiday  \n",
      "8759  Autumn  No Holiday  \n",
      "\n",
      "[8760 rows x 13 columns]\n",
      "     Functioning Day\n",
      "0                Yes\n",
      "1                Yes\n",
      "2                Yes\n",
      "3                Yes\n",
      "4                Yes\n",
      "...              ...\n",
      "8755             Yes\n",
      "8756             Yes\n",
      "8757             Yes\n",
      "8758             Yes\n",
      "8759             Yes\n",
      "\n",
      "[8760 rows x 1 columns]\n",
      "Date                     0\n",
      "Rented Bike Count        0\n",
      "Hour                     0\n",
      "Temperature              0\n",
      "Humidity                 0\n",
      "Wind speed               0\n",
      "Visibility               0\n",
      "Dew point temperature    0\n",
      "Solar Radiation          0\n",
      "Rainfall                 0\n",
      "Snowfall                 0\n",
      "Seasons                  0\n",
      "Holiday                  0\n",
      "dtype: int64\n",
      "Functioning Day    0\n",
      "dtype: int64\n",
      "0       Winter\n",
      "1       Winter\n",
      "2       Winter\n",
      "3       Winter\n",
      "4       Winter\n",
      "         ...  \n",
      "8755    Autumn\n",
      "8756    Autumn\n",
      "8757    Autumn\n",
      "8758    Autumn\n",
      "8759    Autumn\n",
      "Name: Seasons, Length: 8760, dtype: category\n",
      "Categories (4, object): ['Autumn', 'Spring', 'Summer', 'Winter']\n"
     ]
    },
    {
     "name": "stderr",
     "output_type": "stream",
     "text": [
      "/tmp/ipykernel_5592/4189243717.py:15: SettingWithCopyWarning: \n",
      "A value is trying to be set on a copy of a slice from a DataFrame.\n",
      "Try using .loc[row_indexer,col_indexer] = value instead\n",
      "\n",
      "See the caveats in the documentation: https://pandas.pydata.org/pandas-docs/stable/user_guide/indexing.html#returning-a-view-versus-a-copy\n",
      "  X[\"Holiday\"] = X[\"Holiday\"].map({\"No Holiday\": 0, \"Holiday\": 1})\n",
      "/tmp/ipykernel_5592/4189243717.py:16: SettingWithCopyWarning: \n",
      "A value is trying to be set on a copy of a slice from a DataFrame.\n",
      "Try using .loc[row_indexer,col_indexer] = value instead\n",
      "\n",
      "See the caveats in the documentation: https://pandas.pydata.org/pandas-docs/stable/user_guide/indexing.html#returning-a-view-versus-a-copy\n",
      "  y[\"Functioning Day\"] = y[\"Functioning Day\"].map({\"No\": 0, \"Yes\": 1})\n",
      "/tmp/ipykernel_5592/4189243717.py:17: SettingWithCopyWarning: \n",
      "A value is trying to be set on a copy of a slice from a DataFrame.\n",
      "Try using .loc[row_indexer,col_indexer] = value instead\n",
      "\n",
      "See the caveats in the documentation: https://pandas.pydata.org/pandas-docs/stable/user_guide/indexing.html#returning-a-view-versus-a-copy\n",
      "  X[\"Seasons\"] = X[\"Seasons\"].map({\"Winter\": 0, \"Spring\": 1, \"Summer\": 2, \"Autumn\": 3})\n"
     ]
    }
   ],
   "source": [
    "# data (as pandas dataframes)\n",
    "X = seoul_bike_sharing_demand.data.features\n",
    "y = seoul_bike_sharing_demand.data.targets\n",
    "\n",
    "print(X)\n",
    "print(y)\n",
    "\n",
    "\n",
    "# Nulls. Zero nulls\n",
    "print(X.isnull().sum())\n",
    "print(y.isnull().sum())\n",
    "\n",
    "# Categorical\n",
    "print(X[\"Seasons\"].astype(\"category\"))\n",
    "X[\"Holiday\"] = X[\"Holiday\"].map({\"No Holiday\": 0, \"Holiday\": 1})\n",
    "y[\"Functioning Day\"] = y[\"Functioning Day\"].map({\"No\": 0, \"Yes\": 1})\n",
    "X[\"Seasons\"] = X[\"Seasons\"].map({\"Winter\": 0, \"Spring\": 1, \"Summer\": 2, \"Autumn\": 3})\n"
   ]
  },
  {
   "cell_type": "markdown",
   "id": "11e1dfe5",
   "metadata": {},
   "source": [
    "## 2. Основные операции с NumPy:\n"
   ]
  },
  {
   "cell_type": "code",
   "execution_count": 4,
   "id": "d29a7068",
   "metadata": {},
   "outputs": [
    {
     "name": "stdout",
     "output_type": "stream",
     "text": [
      "[254 204 173 ... 694 712 584]\n",
      "[['1/12/2017' 254 0 ... 0 0 1]\n",
      " ['1/12/2017' 204 1 ... 0 0 1]\n",
      " ['1/12/2017' 173 2 ... 0 0 1]\n",
      " ...\n",
      " ['30/11/2018' 694 21 ... 3 0 1]\n",
      " ['30/11/2018' 712 22 ... 3 0 1]\n",
      " ['30/11/2018' 584 23 ... 3 0 1]]\n",
      "[[-5.2  2.2 37.  ...  0.   0.   0. ]\n",
      " [-5.5  0.8 38.  ...  0.   0.   0. ]\n",
      " [-6.   1.  39.  ...  0.   0.   0. ]\n",
      " ...\n",
      " [ 2.6  0.3 39.  ...  0.   0.   3. ]\n",
      " [ 2.1  1.  41.  ...  0.   0.   3. ]\n",
      " [ 1.9  1.3 43.  ...  0.   0.   3. ]]\n"
     ]
    }
   ],
   "source": [
    "# Create a vector of each feature\n",
    "feature_columns = {col: np.asarray(X[col]) for col in X.columns}\n",
    "print(feature_columns[\"Rented Bike Count\"])  # for example\n",
    "# Create a matrix of features\n",
    "weather_matrix = X[\n",
    "    [\n",
    "        \"Temperature\",\n",
    "        \"Wind speed\",\n",
    "        \"Humidity\",\n",
    "        \"Visibility\",\n",
    "        \"Dew point temperature\",\n",
    "        \"Solar Radiation\",\n",
    "        \"Rainfall\",\n",
    "        \"Snowfall\",\n",
    "        \"Seasons\",\n",
    "    ]\n",
    "].values\n",
    "features = np.concatenate((X.values, y.values), axis=1)\n",
    "print(features)\n",
    "print(weather_matrix)"
   ]
  },
  {
   "cell_type": "markdown",
   "id": "4d83b4c8",
   "metadata": {},
   "source": [
    "## 3. Индексация и срезы:\n"
   ]
  },
  {
   "cell_type": "code",
   "execution_count": 5,
   "id": "d50e0d52",
   "metadata": {},
   "outputs": [
    {
     "name": "stdout",
     "output_type": "stream",
     "text": [
      "['11/4/2018' '11/4/2018' '11/4/2018' '11/4/2018' '11/4/2018' '11/4/2018'\n",
      " '11/4/2018' '11/4/2018' '11/4/2018' '11/4/2018']\n",
      "[[-5.2  2.2 37.  ...  0.   0.   0. ]\n",
      " [-5.5  0.8 38.  ...  0.   0.   0. ]\n",
      " [-6.   1.  39.  ...  0.   0.   0. ]\n",
      " ...\n",
      " [ 2.6  0.3 39.  ...  0.   0.   3. ]\n",
      " [ 2.1  1.  41.  ...  0.   0.   3. ]\n",
      " [ 1.9  1.3 43.  ...  0.   0.   3. ]]\n",
      "[[-5.2  2.2]\n",
      " [-5.5  0.8]\n",
      " [-6.   1. ]\n",
      " ...\n",
      " [ 2.6  0.3]\n",
      " [ 2.1  1. ]\n",
      " [ 1.9  1.3]]\n",
      "213.1193181818182\n",
      "1216.648148148148\n"
     ]
    }
   ],
   "source": [
    "# Get subvector where rented bike count = 0\n",
    "mask = feature_columns[\"Rented Bike Count\"] == 0\n",
    "print(feature_columns[\"Date\"][mask][:10])\n",
    "# Get submatrix with temperature, Wind speed\n",
    "print(weather_matrix)\n",
    "print(weather_matrix[:, 0:2])\n",
    "\n",
    "import re\n",
    "\n",
    "md = np.vectorize(\n",
    "    lambda x: bool(re.match(r\"\\b\\d{2}/12/\\d{4}\\b\", x))\n",
    ")  \n",
    "maskd = md(feature_columns[\"Date\"])\n",
    "print(feature_columns[\"Rented Bike Count\"][maskd].mean())\n",
    "mj = np.vectorize(\n",
    "    lambda x: bool(re.match(r\"\\b\\d{2}/06/\\d{4}\\b\", x))\n",
    ")  \n",
    "maskj = mj(feature_columns[\"Date\"])\n",
    "print(feature_columns[\"Rented Bike Count\"][maskj].mean())"
   ]
  },
  {
   "cell_type": "markdown",
   "id": "8e80edc8",
   "metadata": {},
   "source": [
    "# I. Операции с векторами и матрицами\n",
    "\n",
    "## 1. Операции над векторами\n"
   ]
  },
  {
   "cell_type": "code",
   "execution_count": null,
   "id": "a6597904",
   "metadata": {},
   "outputs": [
    {
     "name": "stdout",
     "output_type": "stream",
     "text": [
      "350.0\n",
      "[-192.4 -209.  -234.  ...  101.4   86.1   81.7]\n"
     ]
    }
   ],
   "source": [
    "# simple operations\n",
    "print((feature_columns[\"Rainfall\"] * 10 + feature_columns[\"Snowfall\"]).max())\n",
    "# broadcasting\n",
    "print(feature_columns[\"Temperature\"] * feature_columns[\"Humidity\"][:, np.newaxis])"
   ]
  },
  {
   "cell_type": "markdown",
   "id": "9fd1c3ea",
   "metadata": {},
   "source": [
    "## 2. Скалярное произведение:\n"
   ]
  },
  {
   "cell_type": "code",
   "execution_count": 7,
   "id": "39f60153",
   "metadata": {},
   "outputs": [
    {
     "name": "stdout",
     "output_type": "stream",
     "text": [
      "133299.9\n",
      "115860790.8\n"
     ]
    }
   ],
   "source": [
    "# dot product of vectors\n",
    "print(feature_columns[\"Rainfall\"].T.dot(feature_columns[\"Rented Bike Count\"]))\n",
    "print(feature_columns[\"Temperature\"].T.dot(feature_columns[\"Rented Bike Count\"]))\n",
    "# Temperature has a stronger effect than rain"
   ]
  },
  {
   "cell_type": "markdown",
   "id": "58ee70ae",
   "metadata": {},
   "source": [
    "# III. Анализ сходства между векторами\n",
    "\n",
    "## 1. Корреляция и косинусное сходство:\n"
   ]
  },
  {
   "cell_type": "code",
   "execution_count": null,
   "id": "55545dce",
   "metadata": {},
   "outputs": [
    {
     "name": "stdout",
     "output_type": "stream",
     "text": [
      "Requirement already satisfied: scipy in /home/dima/.conda/envs/loveenv/lib/python3.12/site-packages (1.15.1)\n",
      "Requirement already satisfied: numpy<2.5,>=1.23.5 in /home/dima/.conda/envs/loveenv/lib/python3.12/site-packages (from scipy) (1.26.4)\n",
      "Note: you may need to restart the kernel to use updated packages.\n",
      "My pearson correlation between Temperature and Solar Radiation: 0.353505470147949\n",
      "Scipy pearosn correlation: 0.3535054701479491\n"
     ]
    }
   ],
   "source": [
    "# Pearson correlation\n",
    "def pearson_correlation(x: np.array, y: np.array) -> float:\n",
    "    if len(x) != len(y):\n",
    "        raise ValueError(\"Vectors must be the same length\")\n",
    "    mean_x = np.mean(x)\n",
    "    mean_y = np.mean(y)\n",
    "    covariance = np.sum((x - mean_x) * (y - mean_y))\n",
    "    std_x = np.sqrt(np.sum((x - mean_x) ** 2))\n",
    "    std_y = np.sqrt(np.sum((y - mean_y) ** 2))\n",
    "\n",
    "    if std_x == 0 or std_y == 0:\n",
    "        return 0\n",
    "    return covariance / (std_x * std_y)\n",
    "\n",
    "\n",
    "# Verify\n",
    "from scipy.stats import pearsonr\n",
    "\n",
    "print(\n",
    "    f\"My pearson correlation between Temperature and Solar Radiation: {pearson_correlation(feature_columns['Temperature'], feature_columns['Solar Radiation'])}\\n\"\n",
    "    f\"Scipy pearosn correlation: {pearsonr(feature_columns['Temperature'], feature_columns['Solar Radiation'])[0]}\",\n",
    ")"
   ]
  },
  {
   "cell_type": "code",
   "execution_count": null,
   "id": "e0f4ab43",
   "metadata": {},
   "outputs": [
    {
     "name": "stdout",
     "output_type": "stream",
     "text": [
      "Requirement already satisfied: scikit-learn in /home/dima/.conda/envs/loveenv/lib/python3.12/site-packages (1.6.1)\n",
      "Requirement already satisfied: numpy>=1.19.5 in /home/dima/.conda/envs/loveenv/lib/python3.12/site-packages (from scikit-learn) (1.26.4)\n",
      "Requirement already satisfied: scipy>=1.6.0 in /home/dima/.conda/envs/loveenv/lib/python3.12/site-packages (from scikit-learn) (1.15.1)\n",
      "Requirement already satisfied: joblib>=1.2.0 in /home/dima/.conda/envs/loveenv/lib/python3.12/site-packages (from scikit-learn) (1.4.2)\n",
      "Requirement already satisfied: threadpoolctl>=3.1.0 in /home/dima/.conda/envs/loveenv/lib/python3.12/site-packages (from scikit-learn) (3.5.0)\n",
      "Note: you may need to restart the kernel to use updated packages.\n",
      "My cosine similary between Temperature and Solar Radiation: 0.10196663412659339\n",
      "Scipy cosine similary: 0.10196663412659379\n"
     ]
    }
   ],
   "source": [
    "# Cosine correlation\n",
    "def cosine_similarity(x: np.array, y: np.array) -> float:\n",
    "    if len(x) != len(y):\n",
    "        raise ValueError(\"Vectors must be the same length\")\n",
    "\n",
    "    dot_product = np.dot(x, y)\n",
    "\n",
    "    norm_x = np.linalg.norm(x)\n",
    "    norm_y = np.linalg.norm(y)\n",
    "\n",
    "    if norm_x == 0 or norm_y == 0:\n",
    "        return 0\n",
    "    return dot_product / (norm_x * norm_y)\n",
    "\n",
    "\n",
    "# Verify\n",
    "from sklearn.metrics.pairwise import cosine_similarity as sklearn_cosine_similarity\n",
    "\n",
    "print(\n",
    "    f\"My cosine similary between Temperature and Solar Radiation: {cosine_similarity(feature_columns['Wind speed'], feature_columns['Rainfall'])}\\n\"\n",
    "    f\"Scipy cosine similary: {sklearn_cosine_similarity([feature_columns['Wind speed']], [feature_columns['Rainfall']])[0][0]}\",\n",
    ")"
   ]
  },
  {
   "cell_type": "markdown",
   "id": "9e1b0538",
   "metadata": {},
   "source": [
    "## 2. Нормализация векторов\n"
   ]
  },
  {
   "cell_type": "code",
   "execution_count": 10,
   "id": "d2c0fecb",
   "metadata": {},
   "outputs": [
    {
     "name": "stdout",
     "output_type": "stream",
     "text": [
      "[ 0  1  2 ... 21 22 23]\n",
      "[0.         0.000796   0.00159199 ... 0.01671591 0.01751191 0.0183079 ]\n"
     ]
    }
   ],
   "source": [
    "def normalize(v: np.array) -> np.array:\n",
    "    norm = np.linalg.norm(v)\n",
    "    if norm == 0:\n",
    "        return v\n",
    "    return v / norm\n",
    "\n",
    "\n",
    "print(feature_columns[\"Hour\"])\n",
    "print(normalize(feature_columns[\"Hour\"]))"
   ]
  },
  {
   "cell_type": "markdown",
   "id": "22eb09a2",
   "metadata": {},
   "source": [
    "## 3. Поиск сходства\n"
   ]
  },
  {
   "cell_type": "code",
   "execution_count": 11,
   "id": "c4df2520",
   "metadata": {},
   "outputs": [
    {
     "name": "stdout",
     "output_type": "stream",
     "text": [
      "Day index: 0\n",
      "['1/12/2017' 254 0 -5.2 37 2.2 2000 -17.6 0.0 0.0 0.0 0 0 1]\n",
      "Day index: 655\n",
      "['28/12/2017' 257 7 -5.0 31 0.5 2000 -19.5 0.0 0.0 0.0 0 0 1]\n",
      "Day index: 631\n",
      "['27/12/2017' 262 7 -10.1 38 2.3 2000 -21.7 0.0 0.0 0.0 0 0 1]\n"
     ]
    }
   ],
   "source": [
    "def euclidean_distance(vec1: np.array, vec2: np.array) -> float:\n",
    "    return np.sqrt(np.sum((vec1 - vec2) ** 2))\n",
    "\n",
    "\n",
    "def find_most_similar_days(\n",
    "    query_vector: np.array, data_vectors: np.array, k=3\n",
    ") -> list[np.array]:\n",
    "    distances = []\n",
    "\n",
    "    for i, data_vector in enumerate(data_vectors):\n",
    "        distance = euclidean_distance(query_vector, data_vector)\n",
    "        distances.append((distance, i))  \n",
    "\n",
    "    sorted_distances = sorted(distances, key=lambda x: x[0])\n",
    "\n",
    "    return [index for _, index in sorted_distances[:k]]\n",
    "\n",
    "\n",
    "most_sim_days = find_most_similar_days(features[0][1:], features[:, 1:])\n",
    "\n",
    "for i in most_sim_days:\n",
    "    print(f\"Day index: {i}\")\n",
    "    print(features[i])"
   ]
  },
  {
   "cell_type": "markdown",
   "id": "3cc01d7a",
   "metadata": {},
   "source": [
    "# IV. Прогнозирование и кластеризация\n",
    "\n",
    "## 1. Фильтрация временных рядов:\n"
   ]
  },
  {
   "cell_type": "code",
   "execution_count": null,
   "id": "2bfbe524",
   "metadata": {},
   "outputs": [],
   "source": []
  }
 ],
 "metadata": {
  "kernelspec": {
   "display_name": "loveenv",
   "language": "python",
   "name": "python3"
  },
  "language_info": {
   "codemirror_mode": {
    "name": "ipython",
    "version": 3
   },
   "file_extension": ".py",
   "mimetype": "text/x-python",
   "name": "python",
   "nbconvert_exporter": "python",
   "pygments_lexer": "ipython3",
   "version": "3.12.9"
  }
 },
 "nbformat": 4,
 "nbformat_minor": 5
}
